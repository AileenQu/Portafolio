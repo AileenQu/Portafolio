{
  "nbformat": 4,
  "nbformat_minor": 0,
  "metadata": {
    "colab": {
      "provenance": [],
      "authorship_tag": "ABX9TyPQg9VbUx/CziGRbB8F9hwx",
      "include_colab_link": true
    },
    "kernelspec": {
      "name": "python3",
      "display_name": "Python 3"
    },
    "language_info": {
      "name": "python"
    }
  },
  "cells": [
    {
      "cell_type": "markdown",
      "metadata": {
        "id": "view-in-github",
        "colab_type": "text"
      },
      "source": [
        "<a href=\"https://colab.research.google.com/github/AileenQu/Portafolio/blob/main/Ejercicios_1.ipynb\" target=\"_parent\"><img src=\"https://colab.research.google.com/assets/colab-badge.svg\" alt=\"Open In Colab\"/></a>"
      ]
    },
    {
      "cell_type": "code",
      "execution_count": 4,
      "metadata": {
        "colab": {
          "base_uri": "https://localhost:8080/"
        },
        "id": "FbFV_EpXpNRe",
        "outputId": "52a1b413-2267-4c20-a9eb-2e41fae34f31"
      },
      "outputs": [
        {
          "output_type": "stream",
          "name": "stdout",
          "text": [
            "Ejercicio 1: ¿Cuál es la función de la memoria secundaria en una computadora?\n",
            "c) Almacenar información durante mucho tiempo, incluso después de ciclos deapagado y encendido\n",
            "Ejercicio 2: ¿Qué es un programa?\n",
            "Secuencia de aciones para realizar algo\n",
            "Ejercicio 3: ¿Cuál es la diferencia entre un compilador y un intérprete?\n",
            "Uno solo almacena la información y el otro la interpreta para dar un seguimiento\n",
            "Ejercicio 4: ¿Cuál de los siguientes contiene código máquina?\n",
            "a) El intérprete de Python\n",
            "Ejercicio 5: ¿Qué está mal en el siguiente código?\n",
            "El comando 'print' está mal escrito\n",
            "Ejercicio 6: ¿En qué lugar del computador queda almacenada una variable, como en este caso “X”, después de ejecutar la siguiente línea de Python?\n",
            "b) Memoria Principal\n",
            "Ejercicio 7: ¿Qué mostrará en pantalla el siguiente programa?\n",
            "b) 44\n",
            "Ejercicio 8: Explica cada uno de los siguientes conceptos usando un ejemplo deuna capacidad humana: (1) Unidad central de procesamiento, (2) Memoria prin\u0002cipal, (3) Memoria secundaria, (4) Dispositivos de entrada, y (5) Dispositivos de salida. Por ejemplo, “¿Cuál sería el equivalente humano de la Unidad central de procesamiento?”\n",
            "Unidad central ce procesamiento la consideraría el cerebro\n",
            "Memoria principal sería la memoria a corto plazo\n",
            "La memoria secundaria sería la memoria a larzo plazo\n",
            "Dispositivos de entrada y salida serían diversas formas pero principalmente los 5 sentidos pues reciben y envian información del exterior\n",
            "Ejercicio 9: ¿Cómo puedes corregir un “Error de sintaxis”?\n",
            "Revisar el el lenguaje\n"
          ]
        }
      ],
      "source": [
        "print (\"Ejercicio 1: ¿Cuál es la función de la memoria secundaria en una computadora?\")\n",
        "print (\"c) Almacenar información durante mucho tiempo, incluso después de ciclos deapagado y encendido\")\n",
        "\n",
        "print (\"Ejercicio 2: ¿Qué es un programa?\")\n",
        "print (\"Secuencia de aciones para realizar algo\")\n",
        "\n",
        "print (\"Ejercicio 3: ¿Cuál es la diferencia entre un compilador y un intérprete?\")\n",
        "print (\"Uno solo almacena la información y el otro la interpreta para dar un seguimiento\")\n",
        "\n",
        "print (\"Ejercicio 4: ¿Cuál de los siguientes contiene código máquina?\")\n",
        "print (\"a) El intérprete de Python\")\n",
        "\n",
        "print (\"Ejercicio 5: ¿Qué está mal en el siguiente código?\")\n",
        "print (\"El comando 'print' está mal escrito\")\n",
        "\n",
        "print (\"Ejercicio 6: ¿En qué lugar del computador queda almacenada una variable, como en este caso “X”, después de ejecutar la siguiente línea de Python?\")\n",
        "print (\"b) Memoria Principal\")\n",
        "\n",
        "print (\"Ejercicio 7: ¿Qué mostrará en pantalla el siguiente programa?\")\n",
        "print (\"b) 44\")\n",
        "\n",
        "print (\"Ejercicio 8: Explica cada uno de los siguientes conceptos usando un ejemplo deuna capacidad humana: (1) Unidad central de procesamiento, (2) Memoria prin\u0002cipal, (3) Memoria secundaria, (4) Dispositivos de entrada, y (5) Dispositivos de salida. Por ejemplo, “¿Cuál sería el equivalente humano de la Unidad central de procesamiento?”\")\n",
        "print (\"Unidad central ce procesamiento la consideraría el cerebro\")\n",
        "print (\"Memoria principal sería la memoria a corto plazo\")\n",
        "print (\"La memoria secundaria sería la memoria a larzo plazo\")\n",
        "print (\"Dispositivos de entrada y salida serían diversas formas pero principalmente los 5 sentidos pues reciben y envian información del exterior\")\n",
        "\n",
        "print (\"Ejercicio 9: ¿Cómo puedes corregir un “Error de sintaxis”?\")\n",
        "print (\"Revisar el el lenguaje\")\n"
      ]
    }
  ]
}